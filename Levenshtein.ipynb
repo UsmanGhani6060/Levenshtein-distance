{
 "cells": [
  {
   "cell_type": "code",
   "execution_count": 9,
   "metadata": {},
   "outputs": [],
   "source": [
    "\n",
    "import numpy as np\n",
    "from pandas import *\n",
    "import csv\n",
    "from Levenshtein import distance as lev\n",
    "import enchant"
   ]
  },
  {
   "cell_type": "code",
   "execution_count": 10,
   "metadata": {},
   "outputs": [
    {
     "name": "stdout",
     "output_type": "stream",
     "text": [
      "['Cuca', 'Lua', 'Lua', 'Lua', 'Lua', 'Lua', 'Lua', 'Luba', 'Lucas', 'Luce', 'Luce', 'Luce', 'Lucia', 'Lucy', 'Lucy', 'Lucy', 'Lucy', 'Lucy', 'Lucy', 'Lucy', 'Lucy', 'Lucy', 'Lucy', 'Lucy', 'Lucy', 'Lucy', 'Lucy', 'Lucy', 'Lucy', 'Lucy', 'Lucy', 'Lucy', 'Lucy', 'Lucy', 'Lula', 'Lula', 'Luma', 'Luma', 'Luna', 'Luna', 'Luna', 'Luna', 'Luna', 'Luna', 'Luna', 'Luna', 'Luna', 'Luna', 'Luna', 'Luna', 'Luna', 'Luna', 'Luna', 'Luna', 'Luna', 'Luna', 'Luna', 'Luna', 'Luna', 'Luna', 'Luna', 'Luna', 'Luna', 'Luna', 'Luna', 'Luna', 'Luna', 'Luna', 'Luna', 'Luna', 'Luna', 'Luna', 'Luna', 'Luna', 'Luna', 'Luna', 'Luna', 'Luna', 'Luna', 'Luna', 'Luna', 'Luna', 'Luna', 'Luna', 'Luna', 'Luna', 'Luna', 'Luna', 'Luna', 'Luna', 'Luna', 'Luna', 'Luna', 'Luna', 'Luna', 'Luna', 'Luna', 'Luna', 'Luna', 'Luna', 'Luna', 'Luna', 'Luna', 'Luna', 'Luna', 'Luna', 'Luna', 'Luna', 'Luna', 'Luna', 'Luna', 'Luna', 'Luna', 'Luna', 'Luna', 'Luna', 'Luna', 'Luna', 'Luna', 'Luna', 'Luna', 'Luna', 'Luna', 'Luna', 'Luna', 'Luna', 'Luna', 'Luna', 'Luna', 'Luna', 'Lupa', 'Lupa', 'Lupa', 'Lupa', 'Lupa', 'Yuca']\n"
     ]
    }
   ],
   "source": [
    "\n",
    "column_names = [\"HUNDENAME\", \"GEBURTSJAHR_HUND\", \"GESCHLECHT_HUND\"]\n",
    "\n",
    "df = pd.read_csv('C:\\\\Users\\\\UGhani\\\\Desktop\\\\DataScience Testingh\\\\20210103_hundenamen.csv', names=column_names)\n",
    "\n",
    "\n",
    "item = ['Luca']\n",
    "# extracting name column\n",
    "dog_names = df.HUNDENAME.to_list()\n",
    "\n",
    "# all possible distance values list for final results \n",
    "counting = []\n",
    "\n",
    "for string in dog_names:\n",
    "    if(enchant.utils.levenshtein('Luca', string)) == 1:\n",
    "        counting.append(string)\n",
    "        \n",
    "\n",
    "print(counting)\n",
    "\n"
   ]
  },
  {
   "cell_type": "code",
   "execution_count": null,
   "metadata": {},
   "outputs": [],
   "source": []
  }
 ],
 "metadata": {
  "kernelspec": {
   "display_name": "Python 3",
   "language": "python",
   "name": "python3"
  },
  "language_info": {
   "codemirror_mode": {
    "name": "ipython",
    "version": 3
   },
   "file_extension": ".py",
   "mimetype": "text/x-python",
   "name": "python",
   "nbconvert_exporter": "python",
   "pygments_lexer": "ipython3",
   "version": "3.7.3"
  }
 },
 "nbformat": 4,
 "nbformat_minor": 2
}
